{
 "cells": [
  {
   "cell_type": "code",
   "execution_count": 1,
   "id": "c5c87a0a",
   "metadata": {},
   "outputs": [
    {
     "name": "stdout",
     "output_type": "stream",
     "text": [
      "Collecting streamlit\n",
      "  Using cached streamlit-1.12.0-py2.py3-none-any.whl (9.1 MB)\n",
      "Requirement already satisfied: packaging>=14.1 in c:\\programdata\\anaconda3\\lib\\site-packages (from streamlit) (21.3)\n",
      "Requirement already satisfied: typing-extensions>=3.10.0.0 in c:\\programdata\\anaconda3\\lib\\site-packages (from streamlit) (4.4.0)\n",
      "Requirement already satisfied: validators>=0.2 in c:\\programdata\\anaconda3\\lib\\site-packages (from streamlit) (0.20.0)\n",
      "Requirement already satisfied: gitpython!=3.1.19 in c:\\programdata\\anaconda3\\lib\\site-packages (from streamlit) (3.1.29)\n",
      "Requirement already satisfied: toml in c:\\programdata\\anaconda3\\lib\\site-packages (from streamlit) (0.10.2)\n",
      "Requirement already satisfied: cachetools>=4.0 in c:\\programdata\\anaconda3\\lib\\site-packages (from streamlit) (5.2.0)\n",
      "Requirement already satisfied: requests>=2.4 in c:\\programdata\\anaconda3\\lib\\site-packages (from streamlit) (2.28.1)\n",
      "Requirement already satisfied: rich>=10.11.0 in c:\\programdata\\anaconda3\\lib\\site-packages (from streamlit) (12.6.0)\n",
      "Requirement already satisfied: semver in c:\\programdata\\anaconda3\\lib\\site-packages (from streamlit) (2.13.0)\n",
      "Requirement already satisfied: pydeck>=0.1.dev5 in c:\\programdata\\anaconda3\\lib\\site-packages (from streamlit) (0.8.0b4)\n",
      "Requirement already satisfied: pyarrow>=4.0 in c:\\programdata\\anaconda3\\lib\\site-packages (from streamlit) (10.0.0)\n",
      "Requirement already satisfied: watchdog in c:\\programdata\\anaconda3\\lib\\site-packages (from streamlit) (2.1.3)\n",
      "Requirement already satisfied: numpy in c:\\programdata\\anaconda3\\lib\\site-packages (from streamlit) (1.23.4)\n",
      "Requirement already satisfied: tzlocal>=1.1 in c:\\programdata\\anaconda3\\lib\\site-packages (from streamlit) (4.2)\n",
      "Requirement already satisfied: click>=7.0 in c:\\programdata\\anaconda3\\lib\\site-packages (from streamlit) (8.0.3)\n",
      "Requirement already satisfied: pandas>=0.21.0 in c:\\programdata\\anaconda3\\lib\\site-packages (from streamlit) (1.5.1)\n",
      "Requirement already satisfied: importlib-metadata>=1.4 in c:\\programdata\\anaconda3\\lib\\site-packages (from streamlit) (4.8.1)\n",
      "Requirement already satisfied: python-dateutil in c:\\programdata\\anaconda3\\lib\\site-packages (from streamlit) (2.8.2)\n",
      "Requirement already satisfied: tornado>=5.0 in c:\\programdata\\anaconda3\\lib\\site-packages (from streamlit) (6.1)\n",
      "Requirement already satisfied: blinker>=1.0.0 in c:\\programdata\\anaconda3\\lib\\site-packages (from streamlit) (1.5)\n",
      "Requirement already satisfied: pillow>=6.2.0 in c:\\programdata\\anaconda3\\lib\\site-packages (from streamlit) (8.4.0)\n",
      "Requirement already satisfied: protobuf<4,>=3.12 in c:\\programdata\\anaconda3\\lib\\site-packages (from streamlit) (3.19.6)\n",
      "Requirement already satisfied: altair>=3.2.0 in c:\\programdata\\anaconda3\\lib\\site-packages (from streamlit) (4.2.0)\n",
      "Requirement already satisfied: pympler>=0.9 in c:\\programdata\\anaconda3\\lib\\site-packages (from streamlit) (1.0.1)\n",
      "Requirement already satisfied: toolz in c:\\programdata\\anaconda3\\lib\\site-packages (from altair>=3.2.0->streamlit) (0.11.1)\n",
      "Requirement already satisfied: entrypoints in c:\\programdata\\anaconda3\\lib\\site-packages (from altair>=3.2.0->streamlit) (0.3)\n",
      "Requirement already satisfied: jinja2 in c:\\programdata\\anaconda3\\lib\\site-packages (from altair>=3.2.0->streamlit) (3.1.2)\n",
      "Requirement already satisfied: jsonschema>=3.0 in c:\\programdata\\anaconda3\\lib\\site-packages (from altair>=3.2.0->streamlit) (3.2.0)\n",
      "Requirement already satisfied: colorama in c:\\programdata\\anaconda3\\lib\\site-packages (from click>=7.0->streamlit) (0.4.4)\n",
      "Requirement already satisfied: gitdb<5,>=4.0.1 in c:\\programdata\\anaconda3\\lib\\site-packages (from gitpython!=3.1.19->streamlit) (4.0.9)\n",
      "Requirement already satisfied: zipp>=0.5 in c:\\programdata\\anaconda3\\lib\\site-packages (from importlib-metadata>=1.4->streamlit) (3.6.0)\n",
      "Requirement already satisfied: pyparsing!=3.0.5,>=2.0.2 in c:\\programdata\\anaconda3\\lib\\site-packages (from packaging>=14.1->streamlit) (3.0.9)\n",
      "Requirement already satisfied: pytz>=2020.1 in c:\\programdata\\anaconda3\\lib\\site-packages (from pandas>=0.21.0->streamlit) (2022.7)\n",
      "Requirement already satisfied: six>=1.5 in c:\\programdata\\anaconda3\\lib\\site-packages (from python-dateutil->streamlit) (1.15.0)\n",
      "Requirement already satisfied: urllib3<1.27,>=1.21.1 in c:\\programdata\\anaconda3\\lib\\site-packages (from requests>=2.4->streamlit) (1.26.12)\n",
      "Requirement already satisfied: certifi>=2017.4.17 in c:\\programdata\\anaconda3\\lib\\site-packages (from requests>=2.4->streamlit) (2022.9.24)\n",
      "Requirement already satisfied: charset-normalizer<3,>=2 in c:\\programdata\\anaconda3\\lib\\site-packages (from requests>=2.4->streamlit) (2.1.1)\n",
      "Requirement already satisfied: idna<4,>=2.5 in c:\\programdata\\anaconda3\\lib\\site-packages (from requests>=2.4->streamlit) (3.4)\n",
      "Requirement already satisfied: pygments<3.0.0,>=2.6.0 in c:\\programdata\\anaconda3\\lib\\site-packages (from rich>=10.11.0->streamlit) (2.10.0)\n",
      "Requirement already satisfied: commonmark<0.10.0,>=0.9.0 in c:\\programdata\\anaconda3\\lib\\site-packages (from rich>=10.11.0->streamlit) (0.9.1)\n",
      "Requirement already satisfied: tzdata in c:\\programdata\\anaconda3\\lib\\site-packages (from tzlocal>=1.1->streamlit) (2022.6)\n",
      "Requirement already satisfied: pytz-deprecation-shim in c:\\programdata\\anaconda3\\lib\\site-packages (from tzlocal>=1.1->streamlit) (0.1.0.post0)\n",
      "Requirement already satisfied: decorator>=3.4.0 in c:\\programdata\\anaconda3\\lib\\site-packages (from validators>=0.2->streamlit) (5.1.1)\n",
      "Requirement already satisfied: smmap<6,>=3.0.1 in c:\\programdata\\anaconda3\\lib\\site-packages (from gitdb<5,>=4.0.1->gitpython!=3.1.19->streamlit) (5.0.0)\n",
      "Requirement already satisfied: MarkupSafe>=2.0 in c:\\programdata\\anaconda3\\lib\\site-packages (from jinja2->altair>=3.2.0->streamlit) (2.1.1)\n",
      "Requirement already satisfied: attrs>=17.4.0 in c:\\programdata\\anaconda3\\lib\\site-packages (from jsonschema>=3.0->altair>=3.2.0->streamlit) (21.2.0)\n",
      "Requirement already satisfied: setuptools in c:\\programdata\\anaconda3\\lib\\site-packages (from jsonschema>=3.0->altair>=3.2.0->streamlit) (65.5.0)\n",
      "Requirement already satisfied: pyrsistent>=0.14.0 in c:\\programdata\\anaconda3\\lib\\site-packages (from jsonschema>=3.0->altair>=3.2.0->streamlit) (0.18.0)\n",
      "Installing collected packages: streamlit\n",
      "Successfully installed streamlit-1.12.0\n"
     ]
    },
    {
     "name": "stderr",
     "output_type": "stream",
     "text": [
      "WARNING: Ignoring invalid distribution -qdm (c:\\programdata\\anaconda3\\lib\\site-packages)\n",
      "WARNING: Ignoring invalid distribution -lask (c:\\programdata\\anaconda3\\lib\\site-packages)\n",
      "WARNING: Ignoring invalid distribution -qdm (c:\\programdata\\anaconda3\\lib\\site-packages)\n",
      "WARNING: Ignoring invalid distribution -lask (c:\\programdata\\anaconda3\\lib\\site-packages)\n",
      "WARNING: Ignoring invalid distribution -qdm (c:\\programdata\\anaconda3\\lib\\site-packages)\n",
      "WARNING: Ignoring invalid distribution -lask (c:\\programdata\\anaconda3\\lib\\site-packages)\n",
      "WARNING: Ignoring invalid distribution -qdm (c:\\programdata\\anaconda3\\lib\\site-packages)\n",
      "WARNING: Ignoring invalid distribution -lask (c:\\programdata\\anaconda3\\lib\\site-packages)\n",
      "WARNING: Ignoring invalid distribution -qdm (c:\\programdata\\anaconda3\\lib\\site-packages)\n",
      "WARNING: Ignoring invalid distribution -lask (c:\\programdata\\anaconda3\\lib\\site-packages)\n",
      "WARNING: Ignoring invalid distribution -qdm (c:\\programdata\\anaconda3\\lib\\site-packages)\n",
      "WARNING: Ignoring invalid distribution -lask (c:\\programdata\\anaconda3\\lib\\site-packages)\n",
      "WARNING: Ignoring invalid distribution -qdm (c:\\programdata\\anaconda3\\lib\\site-packages)\n",
      "WARNING: Ignoring invalid distribution -lask (c:\\programdata\\anaconda3\\lib\\site-packages)\n",
      "\n",
      "[notice] A new release of pip available: 22.3 -> 22.3.1\n",
      "[notice] To update, run: python.exe -m pip install --upgrade pip\n"
     ]
    }
   ],
   "source": [
    "!pip install streamlit"
   ]
  },
  {
   "cell_type": "code",
   "execution_count": null,
   "id": "c5cb9fac",
   "metadata": {},
   "outputs": [],
   "source": [
    "import streamlit as st #import streamlit library"
   ]
  },
  {
   "cell_type": "code",
   "execution_count": null,
   "id": "7b67dd70",
   "metadata": {},
   "outputs": [],
   "source": [
    "create a py file # Create a Python file"
   ]
  },
  {
   "cell_type": "code",
   "execution_count": null,
   "id": "f82534c1",
   "metadata": {},
   "outputs": [],
   "source": [
    "streamlit run <py file>     # to run the streamlit application"
   ]
  },
  {
   "cell_type": "code",
   "execution_count": null,
   "id": "6e6aeb32",
   "metadata": {},
   "outputs": [],
   "source": [
    "st.title('Our First Streamlit App') #Set title for the Streamlit App"
   ]
  },
  {
   "cell_type": "code",
   "execution_count": null,
   "id": "2543e325",
   "metadata": {},
   "outputs": [],
   "source": [
    "st.subheader('Streamlit') #Set subheader"
   ]
  },
  {
   "cell_type": "code",
   "execution_count": null,
   "id": "8f9bf001",
   "metadata": {},
   "outputs": [],
   "source": [
    "st.image('streamlit.png')#To add image in the Streamlit App"
   ]
  },
  {
   "cell_type": "code",
   "execution_count": null,
   "id": "fe41f412",
   "metadata": {},
   "outputs": [],
   "source": [
    "st.success('Image Loaded successfully') # To deliver the success image after the image is uploaded"
   ]
  },
  {
   "cell_type": "code",
   "execution_count": null,
   "id": "02928a2b",
   "metadata": {},
   "outputs": [],
   "source": [
    "st.write('Streamlit is an open-source Python library that makes it easy to create and share beautiful, custom web apps for machine learning and data science')\n",
    "#Add Text"
   ]
  },
  {
   "cell_type": "code",
   "execution_count": null,
   "id": "1ac5b17c",
   "metadata": {},
   "outputs": [],
   "source": [
    "st.markdown('This is a markdown cell') #Add Markdown"
   ]
  },
  {
   "cell_type": "code",
   "execution_count": null,
   "id": "3a8049c8",
   "metadata": {},
   "outputs": [],
   "source": [
    "st.info('INFO - Streamlit Test App') #Add INFO"
   ]
  },
  {
   "cell_type": "code",
   "execution_count": null,
   "id": "8cabff9a",
   "metadata": {},
   "outputs": [],
   "source": [
    "st.warning('Be Cautious') #Add Warning"
   ]
  },
  {
   "cell_type": "code",
   "execution_count": null,
   "id": "4956b4ec",
   "metadata": {},
   "outputs": [],
   "source": [
    "st.error('Error Message')#Add Error"
   ]
  },
  {
   "cell_type": "code",
   "execution_count": null,
   "id": "ee81590a",
   "metadata": {},
   "outputs": [],
   "source": [
    "st.help(range)#Add Help with package"
   ]
  },
  {
   "cell_type": "code",
   "execution_count": null,
   "id": "7aa9d6ea",
   "metadata": {},
   "outputs": [],
   "source": [
    "import numpy as np\n",
    "import pandas as pd\n",
    "\n",
    "dataframe = np.random.rand(10,20)\n",
    "\n",
    "st.dataframe(dataframe)\n",
    "st.success('DataFrame Loaded')\n",
    "\n",
    "st.text('---'*100)\n",
    "\n",
    "df = pd.DataFrame(np.random.rand(10,20),columns=('col %d' % i for i in range(20)))\n",
    "st.dataframe(df.style.highlight_max(axis=1))\n",
    "\n",
    "st.text('---'*100)\n",
    "\n",
    "#Display Chart\n",
    "chart_data = pd.DataFrame(np.random.randn(20,3),columns=['A','B','C'])\n",
    "st.line_chart(chart_data)\n",
    "\n",
    "\n",
    "st.text('---'*100)\n",
    "\n",
    "st.area_chart(chart_data)\n",
    "\n",
    "st.text('---'*100)\n",
    "\n",
    "chart_data = pd.DataFrame(np.random.randn(50,3),columns=['A','B','C'])\n",
    "st.bar_chart(chart_data)\n",
    "\n",
    "st.text('---'*100)\n",
    "\n",
    "import matplotlib.pyplot as plt\n",
    "\n",
    "arr = np.random.normal(1,1,size=100)\n",
    "plt.hist(arr,bins=20)\n",
    "st.set_option('deprecation.showPyplotGlobalUse', False)\n",
    "st.pyplot()\n",
    "\n",
    "st.text('---'*100)\n",
    "\n",
    "import plotly\n",
    "import plotly.figure_factory as ff\n",
    "import scipy\n",
    "\n",
    "#Adding Distplot\n",
    "x1 = np.random.randn(200)-2\n",
    "x2 = np.random.randn(200)\n",
    "x3 = np.random.randn(200)-2\n",
    "\n",
    "hist_data = [x1, x2, x3]\n",
    "group_labels = ['Grp1', 'Grp2', 'Grp3']\n",
    "\n",
    "fig = ff.create_distplot(hist_data,group_labels,bin_size=[0.2,0.25,0.5])\n",
    "st.plotly_chart(fig,use_container_width=True)\n",
    "\n",
    "st.text('---'*100)\n",
    "\n",
    "df = pd.DataFrame(np.random.randn(100,2)/[50,50]*[37.76,-122.4],columns=['lat','lon'])\n",
    "st.map(df)\n",
    "\n",
    "#Create Button\n",
    "if st.button('Click Here to Say Hello'):\n",
    "    st.write('Hello')\n",
    "else:\n",
    "    st.write('Why are you here ??')\n",
    "\n",
    "st.text('---'*100)\n",
    "\n",
    "genre = st.radio('What is your fav genre?', ('Comedy','Action','Supernatural'))\n",
    "\n",
    "if genre == 'Comedy':\n",
    "    st.write('You like Comedy')\n",
    "elif genre == 'Action':\n",
    "    st.write('You like Action')\n",
    "else :\n",
    "    st.write('You like Supernatural')\n",
    "\n",
    "st.text('---'*100)\n",
    "\n",
    "#Select Button\n",
    "option = st.selectbox('How was your day?', ('Good', 'Bad'))\n",
    "st.write(f'Your day was {option}')\n",
    "\n",
    "st.text('---'*100)\n",
    "\n",
    "#Select Multiple Buttons\n",
    "option = st.multiselect('How was your day?', ('Good', 'Bad'))\n",
    "st.write(f'Your day was {option}')\n",
    "\n",
    "st.text('---'*100)\n",
    "\n",
    "#Slider\n",
    "age = st.slider('How old are you?',0,150,20)\n",
    "st.write(f'your age is {age}')\n",
    "\n",
    "st.text('---'*100)\n",
    "\n",
    "values = st.slider('Select of range of values',0,200,(15,80))\n",
    "st.write(f'you selected a range between {values}')\n",
    "\n",
    "number = st.number_input('Enter the number')\n",
    "st.write(f'The number is {number}')\n",
    "\n",
    "st.text('---'*100)\n",
    "st.text('---'*100)\n",
    "\n",
    "#Allow user to upload file from their end\n",
    "#upload = st.file_uploader('Browse to upload files')\n",
    "upload_csv = st.file_uploader('Browse to upload files',type='csv')\n",
    "\n",
    "if upload_csv is not None:\n",
    "    data = pd.read_csv(upload_csv)\n",
    "    st.dataframe(data)\n",
    "    st.success('Dataframe uploaded')\n",
    "else:\n",
    "    st.info('File is empty, Upload a file')\n",
    "\n",
    "st.text('---'*100)\n",
    "\n",
    "#Add Color Picker\n",
    "color = st.color_picker('Pick your preferred color','#00FFAA')\n",
    "st.write(f'The color is {color}')\n",
    "\n",
    "st.text('---'*100)\n",
    "\n",
    "#Side bar\n",
    "#Using object notation\n",
    "add_selectbox = st.sidebar.selectbox(\"What is your fav course?\",(\"ML\", \"DL\", \"CV\",\"NLP\"))\n",
    "\n",
    "#Using \"with\" notation\n",
    "with st.sidebar:\n",
    "    add_radio = st.radio(\"What is your fav course?\",(\"ML\", \"DL\", \"CV\",\"NLP\"))\n",
    "\n",
    "#Color Picker as Sidebar\n",
    "st.sidebar.color_picker('Color Picker',\"#00FFAA\")\n",
    "\n",
    "#Progress Bar\n",
    "import time\n",
    "\n",
    "my_bar = st.progress(0)\n",
    "for percent_complete in range(100):\n",
    "    time.sleep(0.1)\n",
    "    my_bar.progress(percent_complete+1)\n",
    "\n",
    "st.text('---'*100)\n",
    "\n",
    "with st.spinner('wait for it...'):\n",
    "    time.sleep(5)\n",
    "st.success('Successful')\n",
    "\n",
    "st.balloons()\n"
   ]
  }
 ],
 "metadata": {
  "kernelspec": {
   "display_name": "Python 3 (ipykernel)",
   "language": "python",
   "name": "python3"
  },
  "language_info": {
   "codemirror_mode": {
    "name": "ipython",
    "version": 3
   },
   "file_extension": ".py",
   "mimetype": "text/x-python",
   "name": "python",
   "nbconvert_exporter": "python",
   "pygments_lexer": "ipython3",
   "version": "3.9.7"
  }
 },
 "nbformat": 4,
 "nbformat_minor": 5
}
